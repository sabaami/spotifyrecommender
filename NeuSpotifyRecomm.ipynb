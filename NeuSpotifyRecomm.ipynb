{
 "cells": [
  {
   "cell_type": "code",
   "execution_count": 48,
   "id": "a11787c4",
   "metadata": {},
   "outputs": [
    {
     "ename": "FileNotFoundError",
     "evalue": "[Errno 2] No such file or directory: 'data.csv'",
     "output_type": "error",
     "traceback": [
      "\u001b[0;31m---------------------------------------------------------------------------\u001b[0m",
      "\u001b[0;31mFileNotFoundError\u001b[0m                         Traceback (most recent call last)",
      "\u001b[0;32m/var/folders/4n/z4l20lms3xvcyf1hqx_w7ymc0000gn/T/ipykernel_3857/3489615080.py\u001b[0m in \u001b[0;36m<module>\u001b[0;34m\u001b[0m\n\u001b[1;32m     25\u001b[0m \u001b[0;32mimport\u001b[0m \u001b[0mnltk\u001b[0m\u001b[0;34m\u001b[0m\u001b[0;34m\u001b[0m\u001b[0m\n\u001b[1;32m     26\u001b[0m \u001b[0;34m\u001b[0m\u001b[0m\n\u001b[0;32m---> 27\u001b[0;31m \u001b[0mf\u001b[0m \u001b[0;34m=\u001b[0m \u001b[0mopen\u001b[0m\u001b[0;34m(\u001b[0m\u001b[0;34m\"data.csv\"\u001b[0m\u001b[0;34m,\u001b[0m\u001b[0;34m\"r\"\u001b[0m\u001b[0;34m)\u001b[0m\u001b[0;34m\u001b[0m\u001b[0;34m\u001b[0m\u001b[0m\n\u001b[0m\u001b[1;32m     28\u001b[0m \u001b[0mreaderf\u001b[0m \u001b[0;34m=\u001b[0m \u001b[0mcsv\u001b[0m\u001b[0;34m.\u001b[0m\u001b[0mreader\u001b[0m\u001b[0;34m(\u001b[0m\u001b[0mf\u001b[0m\u001b[0;34m)\u001b[0m\u001b[0;34m\u001b[0m\u001b[0;34m\u001b[0m\u001b[0m\n\u001b[1;32m     29\u001b[0m \u001b[0mtemp\u001b[0m \u001b[0;34m=\u001b[0m \u001b[0;34m[\u001b[0m\u001b[0;34m]\u001b[0m\u001b[0;34m\u001b[0m\u001b[0;34m\u001b[0m\u001b[0m\n",
      "\u001b[0;31mFileNotFoundError\u001b[0m: [Errno 2] No such file or directory: 'data.csv'"
     ]
    }
   ],
   "source": [
    "import pandas as pd\n",
    "import numpy as np\n",
    "import json\n",
    "import re \n",
    "import sys\n",
    "import itertools\n",
    "import os\n",
    "\n",
    "\n",
    "from sklearn.feature_extraction.text import TfidfVectorizer\n",
    "from sklearn.metrics.pairwise import cosine_similarity\n",
    "from sklearn.preprocessing import MinMaxScaler\n",
    "import matplotlib.pyplot as plt\n",
    "\n",
    "\n",
    "import spotipy\n",
    "from spotipy.oauth2 import SpotifyClientCredentials\n",
    "from spotipy.oauth2 import SpotifyOAuth\n",
    "import spotipy.util as util\n",
    "\n",
    "import warnings\n",
    "warnings.filterwarnings(\"ignore\")\n",
    "\n",
    "import csv\n",
    "import nltk\n",
    "\n",
    "f = open(\"data.csv\",\"r\")\n",
    "readerf = csv.reader(f)\n",
    "temp = []\n",
    "for row in readerf:\n",
    "    temp.append(postag(row)[1])\n",
    "\n",
    "from collections import Counter\n",
    "Counter(temp)"
   ]
  },
  {
   "cell_type": "code",
   "execution_count": null,
   "id": "1b4296e4",
   "metadata": {},
   "outputs": [],
   "source": [
    "%matplotlib inline\n"
   ]
  },
  {
   "cell_type": "code",
   "execution_count": null,
   "id": "0968d0f5",
   "metadata": {},
   "outputs": [],
   "source": [
    "spotify_df = pd.read_csv(r'/Users/sabaamiri/Documents/archive (2)/tracks.csv')\n"
   ]
  },
  {
   "cell_type": "code",
   "execution_count": null,
   "id": "a771545b",
   "metadata": {},
   "outputs": [],
   "source": [
    "spotify_df.head()\n"
   ]
  },
  {
   "cell_type": "code",
   "execution_count": null,
   "id": "641258c9",
   "metadata": {},
   "outputs": [],
   "source": [
    "data_w_genre = pd.read_csv(r'/Users/sabaamiri/Downloads/data_w_genres.csv')\n"
   ]
  },
  {
   "cell_type": "code",
   "execution_count": null,
   "id": "7579e3b4",
   "metadata": {},
   "outputs": [],
   "source": [
    "data_w_genre.head()"
   ]
  },
  {
   "cell_type": "code",
   "execution_count": null,
   "id": "1c24cf54",
   "metadata": {},
   "outputs": [],
   "source": [
    "data_w_genre.dtypes\n"
   ]
  },
  {
   "cell_type": "code",
   "execution_count": null,
   "id": "1b35cf0c",
   "metadata": {},
   "outputs": [],
   "source": [
    "data_w_genre['genres_upd'] = data_w_genre['genres'].apply(lambda x: [re.sub(' ','_',i) for i in re.findall(r\"'([^']*)'\", x)])\n"
   ]
  },
  {
   "cell_type": "code",
   "execution_count": null,
   "id": "a3b6b56d",
   "metadata": {},
   "outputs": [],
   "source": [
    "spotify_df['artists_upd_v1'] = spotify_df['artists'].apply(lambda x: re.findall(r\"'([^']*)'\", x))\n"
   ]
  },
  {
   "cell_type": "code",
   "execution_count": null,
   "id": "496a7a78",
   "metadata": {},
   "outputs": [],
   "source": [
    "spotify_df['artists_upd_v2'] = spotify_df['artists'].apply(lambda x: re.findall('\\\"(.*?)\\\"',x))"
   ]
  },
  {
   "cell_type": "code",
   "execution_count": null,
   "id": "2910a169",
   "metadata": {},
   "outputs": [],
   "source": [
    "spotify_df['artists_upd'] = np.where(spotify_df['artists_upd_v1'].apply(lambda x: not x), spotify_df['artists_upd_v2'], spotify_df['artists_upd_v1'] )\n"
   ]
  },
  {
   "cell_type": "code",
   "execution_count": 72,
   "id": "d9f6ffe6",
   "metadata": {},
   "outputs": [],
   "source": [
    "spotify_df['artists_song'] = spotify_df.apply(lambda row: str(row['artists_upd'][0])+ str(row['name']),axis = 1)\n"
   ]
  },
  {
   "cell_type": "code",
   "execution_count": 73,
   "id": "45337379",
   "metadata": {},
   "outputs": [],
   "source": [
    "spotify_df.sort_values(['artists_song','release_date'], ascending = False, inplace = True)\n"
   ]
  },
  {
   "cell_type": "code",
   "execution_count": 74,
   "id": "17175266",
   "metadata": {},
   "outputs": [
    {
     "data": {
      "text/html": [
       "<div>\n",
       "<style scoped>\n",
       "    .dataframe tbody tr th:only-of-type {\n",
       "        vertical-align: middle;\n",
       "    }\n",
       "\n",
       "    .dataframe tbody tr th {\n",
       "        vertical-align: top;\n",
       "    }\n",
       "\n",
       "    .dataframe thead th {\n",
       "        text-align: right;\n",
       "    }\n",
       "</style>\n",
       "<table border=\"1\" class=\"dataframe\">\n",
       "  <thead>\n",
       "    <tr style=\"text-align: right;\">\n",
       "      <th></th>\n",
       "      <th>id</th>\n",
       "      <th>name</th>\n",
       "      <th>popularity</th>\n",
       "      <th>duration_ms</th>\n",
       "      <th>explicit</th>\n",
       "      <th>artists</th>\n",
       "      <th>id_artists</th>\n",
       "      <th>release_date</th>\n",
       "      <th>danceability</th>\n",
       "      <th>energy</th>\n",
       "      <th>...</th>\n",
       "      <th>acousticness</th>\n",
       "      <th>instrumentalness</th>\n",
       "      <th>liveness</th>\n",
       "      <th>valence</th>\n",
       "      <th>tempo</th>\n",
       "      <th>time_signature</th>\n",
       "      <th>artists_upd_v1</th>\n",
       "      <th>artists_upd_v2</th>\n",
       "      <th>artists_upd</th>\n",
       "      <th>artists_song</th>\n",
       "    </tr>\n",
       "  </thead>\n",
       "  <tbody>\n",
       "    <tr>\n",
       "      <th>86217</th>\n",
       "      <td>5AnCLGg35ziFOloEnXK4uu</td>\n",
       "      <td>Adore You</td>\n",
       "      <td>71</td>\n",
       "      <td>278747</td>\n",
       "      <td>0</td>\n",
       "      <td>['Miley Cyrus']</td>\n",
       "      <td>['5YGY8feqx7naU7z4HrwZM6']</td>\n",
       "      <td>2013-10-04</td>\n",
       "      <td>0.583</td>\n",
       "      <td>0.655</td>\n",
       "      <td>...</td>\n",
       "      <td>0.1110</td>\n",
       "      <td>0.000004</td>\n",
       "      <td>0.113</td>\n",
       "      <td>0.201</td>\n",
       "      <td>119.759</td>\n",
       "      <td>4</td>\n",
       "      <td>[Miley Cyrus]</td>\n",
       "      <td>[]</td>\n",
       "      <td>[Miley Cyrus]</td>\n",
       "      <td>Miley CyrusAdore You</td>\n",
       "    </tr>\n",
       "    <tr>\n",
       "      <th>91884</th>\n",
       "      <td>3jjujdWJ72nww5eGnfs2E7</td>\n",
       "      <td>Adore You</td>\n",
       "      <td>88</td>\n",
       "      <td>207133</td>\n",
       "      <td>0</td>\n",
       "      <td>['Harry Styles']</td>\n",
       "      <td>['6KImCVD70vtIoJWnq6nGn3']</td>\n",
       "      <td>2019-12-13</td>\n",
       "      <td>0.676</td>\n",
       "      <td>0.771</td>\n",
       "      <td>...</td>\n",
       "      <td>0.0237</td>\n",
       "      <td>0.000007</td>\n",
       "      <td>0.102</td>\n",
       "      <td>0.569</td>\n",
       "      <td>99.048</td>\n",
       "      <td>4</td>\n",
       "      <td>[Harry Styles]</td>\n",
       "      <td>[]</td>\n",
       "      <td>[Harry Styles]</td>\n",
       "      <td>Harry StylesAdore You</td>\n",
       "    </tr>\n",
       "    <tr>\n",
       "      <th>92524</th>\n",
       "      <td>1M4qEo4HE3PRaCOM7EXNJq</td>\n",
       "      <td>Adore You</td>\n",
       "      <td>74</td>\n",
       "      <td>207133</td>\n",
       "      <td>0</td>\n",
       "      <td>['Harry Styles']</td>\n",
       "      <td>['6KImCVD70vtIoJWnq6nGn3']</td>\n",
       "      <td>2019-12-06</td>\n",
       "      <td>0.676</td>\n",
       "      <td>0.771</td>\n",
       "      <td>...</td>\n",
       "      <td>0.0237</td>\n",
       "      <td>0.000007</td>\n",
       "      <td>0.102</td>\n",
       "      <td>0.569</td>\n",
       "      <td>99.048</td>\n",
       "      <td>4</td>\n",
       "      <td>[Harry Styles]</td>\n",
       "      <td>[]</td>\n",
       "      <td>[Harry Styles]</td>\n",
       "      <td>Harry StylesAdore You</td>\n",
       "    </tr>\n",
       "  </tbody>\n",
       "</table>\n",
       "<p>3 rows × 24 columns</p>\n",
       "</div>"
      ],
      "text/plain": [
       "                           id       name  popularity  duration_ms  explicit  \\\n",
       "86217  5AnCLGg35ziFOloEnXK4uu  Adore You          71       278747         0   \n",
       "91884  3jjujdWJ72nww5eGnfs2E7  Adore You          88       207133         0   \n",
       "92524  1M4qEo4HE3PRaCOM7EXNJq  Adore You          74       207133         0   \n",
       "\n",
       "                artists                  id_artists release_date  \\\n",
       "86217   ['Miley Cyrus']  ['5YGY8feqx7naU7z4HrwZM6']   2013-10-04   \n",
       "91884  ['Harry Styles']  ['6KImCVD70vtIoJWnq6nGn3']   2019-12-13   \n",
       "92524  ['Harry Styles']  ['6KImCVD70vtIoJWnq6nGn3']   2019-12-06   \n",
       "\n",
       "       danceability  energy  ...  acousticness  instrumentalness  liveness  \\\n",
       "86217         0.583   0.655  ...        0.1110          0.000004     0.113   \n",
       "91884         0.676   0.771  ...        0.0237          0.000007     0.102   \n",
       "92524         0.676   0.771  ...        0.0237          0.000007     0.102   \n",
       "\n",
       "       valence    tempo  time_signature  artists_upd_v1  artists_upd_v2  \\\n",
       "86217    0.201  119.759               4   [Miley Cyrus]              []   \n",
       "91884    0.569   99.048               4  [Harry Styles]              []   \n",
       "92524    0.569   99.048               4  [Harry Styles]              []   \n",
       "\n",
       "          artists_upd           artists_song  \n",
       "86217   [Miley Cyrus]   Miley CyrusAdore You  \n",
       "91884  [Harry Styles]  Harry StylesAdore You  \n",
       "92524  [Harry Styles]  Harry StylesAdore You  \n",
       "\n",
       "[3 rows x 24 columns]"
      ]
     },
     "execution_count": 74,
     "metadata": {},
     "output_type": "execute_result"
    }
   ],
   "source": [
    "spotify_df[spotify_df['name']=='Adore You']\n"
   ]
  },
  {
   "cell_type": "code",
   "execution_count": 75,
   "id": "f904290c",
   "metadata": {},
   "outputs": [],
   "source": [
    "spotify_df.drop_duplicates('artists_song',inplace = True)\n"
   ]
  },
  {
   "cell_type": "code",
   "execution_count": 76,
   "id": "3dcd711d",
   "metadata": {},
   "outputs": [
    {
     "data": {
      "text/html": [
       "<div>\n",
       "<style scoped>\n",
       "    .dataframe tbody tr th:only-of-type {\n",
       "        vertical-align: middle;\n",
       "    }\n",
       "\n",
       "    .dataframe tbody tr th {\n",
       "        vertical-align: top;\n",
       "    }\n",
       "\n",
       "    .dataframe thead th {\n",
       "        text-align: right;\n",
       "    }\n",
       "</style>\n",
       "<table border=\"1\" class=\"dataframe\">\n",
       "  <thead>\n",
       "    <tr style=\"text-align: right;\">\n",
       "      <th></th>\n",
       "      <th>id</th>\n",
       "      <th>name</th>\n",
       "      <th>popularity</th>\n",
       "      <th>duration_ms</th>\n",
       "      <th>explicit</th>\n",
       "      <th>artists</th>\n",
       "      <th>id_artists</th>\n",
       "      <th>release_date</th>\n",
       "      <th>danceability</th>\n",
       "      <th>energy</th>\n",
       "      <th>...</th>\n",
       "      <th>acousticness</th>\n",
       "      <th>instrumentalness</th>\n",
       "      <th>liveness</th>\n",
       "      <th>valence</th>\n",
       "      <th>tempo</th>\n",
       "      <th>time_signature</th>\n",
       "      <th>artists_upd_v1</th>\n",
       "      <th>artists_upd_v2</th>\n",
       "      <th>artists_upd</th>\n",
       "      <th>artists_song</th>\n",
       "    </tr>\n",
       "  </thead>\n",
       "  <tbody>\n",
       "    <tr>\n",
       "      <th>86217</th>\n",
       "      <td>5AnCLGg35ziFOloEnXK4uu</td>\n",
       "      <td>Adore You</td>\n",
       "      <td>71</td>\n",
       "      <td>278747</td>\n",
       "      <td>0</td>\n",
       "      <td>['Miley Cyrus']</td>\n",
       "      <td>['5YGY8feqx7naU7z4HrwZM6']</td>\n",
       "      <td>2013-10-04</td>\n",
       "      <td>0.583</td>\n",
       "      <td>0.655</td>\n",
       "      <td>...</td>\n",
       "      <td>0.1110</td>\n",
       "      <td>0.000004</td>\n",
       "      <td>0.113</td>\n",
       "      <td>0.201</td>\n",
       "      <td>119.759</td>\n",
       "      <td>4</td>\n",
       "      <td>[Miley Cyrus]</td>\n",
       "      <td>[]</td>\n",
       "      <td>[Miley Cyrus]</td>\n",
       "      <td>Miley CyrusAdore You</td>\n",
       "    </tr>\n",
       "    <tr>\n",
       "      <th>91884</th>\n",
       "      <td>3jjujdWJ72nww5eGnfs2E7</td>\n",
       "      <td>Adore You</td>\n",
       "      <td>88</td>\n",
       "      <td>207133</td>\n",
       "      <td>0</td>\n",
       "      <td>['Harry Styles']</td>\n",
       "      <td>['6KImCVD70vtIoJWnq6nGn3']</td>\n",
       "      <td>2019-12-13</td>\n",
       "      <td>0.676</td>\n",
       "      <td>0.771</td>\n",
       "      <td>...</td>\n",
       "      <td>0.0237</td>\n",
       "      <td>0.000007</td>\n",
       "      <td>0.102</td>\n",
       "      <td>0.569</td>\n",
       "      <td>99.048</td>\n",
       "      <td>4</td>\n",
       "      <td>[Harry Styles]</td>\n",
       "      <td>[]</td>\n",
       "      <td>[Harry Styles]</td>\n",
       "      <td>Harry StylesAdore You</td>\n",
       "    </tr>\n",
       "  </tbody>\n",
       "</table>\n",
       "<p>2 rows × 24 columns</p>\n",
       "</div>"
      ],
      "text/plain": [
       "                           id       name  popularity  duration_ms  explicit  \\\n",
       "86217  5AnCLGg35ziFOloEnXK4uu  Adore You          71       278747         0   \n",
       "91884  3jjujdWJ72nww5eGnfs2E7  Adore You          88       207133         0   \n",
       "\n",
       "                artists                  id_artists release_date  \\\n",
       "86217   ['Miley Cyrus']  ['5YGY8feqx7naU7z4HrwZM6']   2013-10-04   \n",
       "91884  ['Harry Styles']  ['6KImCVD70vtIoJWnq6nGn3']   2019-12-13   \n",
       "\n",
       "       danceability  energy  ...  acousticness  instrumentalness  liveness  \\\n",
       "86217         0.583   0.655  ...        0.1110          0.000004     0.113   \n",
       "91884         0.676   0.771  ...        0.0237          0.000007     0.102   \n",
       "\n",
       "       valence    tempo  time_signature  artists_upd_v1  artists_upd_v2  \\\n",
       "86217    0.201  119.759               4   [Miley Cyrus]              []   \n",
       "91884    0.569   99.048               4  [Harry Styles]              []   \n",
       "\n",
       "          artists_upd           artists_song  \n",
       "86217   [Miley Cyrus]   Miley CyrusAdore You  \n",
       "91884  [Harry Styles]  Harry StylesAdore You  \n",
       "\n",
       "[2 rows x 24 columns]"
      ]
     },
     "execution_count": 76,
     "metadata": {},
     "output_type": "execute_result"
    }
   ],
   "source": [
    "spotify_df[spotify_df['name']=='Adore You']\n"
   ]
  },
  {
   "cell_type": "code",
   "execution_count": null,
   "id": "e1611302",
   "metadata": {},
   "outputs": [],
   "source": []
  }
 ],
 "metadata": {
  "kernelspec": {
   "display_name": "Python 3 (ipykernel)",
   "language": "python",
   "name": "python3"
  },
  "language_info": {
   "codemirror_mode": {
    "name": "ipython",
    "version": 3
   },
   "file_extension": ".py",
   "mimetype": "text/x-python",
   "name": "python",
   "nbconvert_exporter": "python",
   "pygments_lexer": "ipython3",
   "version": "3.9.7"
  }
 },
 "nbformat": 4,
 "nbformat_minor": 5
}
